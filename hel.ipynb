{
 "cells": [
  {
   "cell_type": "code",
   "execution_count": 1,
   "metadata": {},
   "outputs": [],
   "source": [
    "import numpy\n",
    "import os \n",
    "import pandas as pd\n"
   ]
  },
  {
   "cell_type": "code",
   "execution_count": 3,
   "metadata": {},
   "outputs": [
    {
     "name": "stdout",
     "output_type": "stream",
     "text": [
      "hello\n"
     ]
    }
   ],
   "source": [
    "print(\"hello\")"
   ]
  },
  {
   "cell_type": "code",
   "execution_count": 4,
   "metadata": {},
   "outputs": [],
   "source": [
    "poem_data = pd.read_csv(\"nepali_poems.csv\")"
   ]
  },
  {
   "cell_type": "code",
   "execution_count": 5,
   "metadata": {},
   "outputs": [
    {
     "data": {
      "text/html": [
       "<div>\n",
       "<style scoped>\n",
       "    .dataframe tbody tr th:only-of-type {\n",
       "        vertical-align: middle;\n",
       "    }\n",
       "\n",
       "    .dataframe tbody tr th {\n",
       "        vertical-align: top;\n",
       "    }\n",
       "\n",
       "    .dataframe thead th {\n",
       "        text-align: right;\n",
       "    }\n",
       "</style>\n",
       "<table border=\"1\" class=\"dataframe\">\n",
       "  <thead>\n",
       "    <tr style=\"text-align: right;\">\n",
       "      <th></th>\n",
       "      <th>Title</th>\n",
       "      <th>Author_Title</th>\n",
       "      <th>Date</th>\n",
       "      <th>Content</th>\n",
       "      <th>Tags</th>\n",
       "    </tr>\n",
       "  </thead>\n",
       "  <tbody>\n",
       "    <tr>\n",
       "      <th>0</th>\n",
       "      <td>Dr. Jayanta Krishna Sharma – Ragat Uttar-Adhunik</td>\n",
       "      <td>NaN</td>\n",
       "      <td>January 16, 2024</td>\n",
       "      <td>डा. जयन्त कृष्ण शर्मा – रगत उत्तर-आधुनिक\\nरगत ...</td>\n",
       "      <td>blood, dr jayanta krishna sharma, ragat</td>\n",
       "    </tr>\n",
       "    <tr>\n",
       "      <th>1</th>\n",
       "      <td>Kunta Sharma – Aama</td>\n",
       "      <td>कुन्ता शर्मा – आमा</td>\n",
       "      <td>September 25, 2023</td>\n",
       "      <td>कुन्ता शर्मा – आमा\\nकवि ! सजिलो हुन्छ\\nआमाको प...</td>\n",
       "      <td>kunta sharma, kunta sharma poems, nepali femal...</td>\n",
       "    </tr>\n",
       "    <tr>\n",
       "      <th>2</th>\n",
       "      <td>Kunta Sharma – Sapana Haru Bhayabaha Hunchhan ...</td>\n",
       "      <td>कुन्ता शर्मा – सपनाहरू भयावह हुन्छन् किन ?</td>\n",
       "      <td>September 25, 2023</td>\n",
       "      <td>कुन्ता शर्मा – सपनाहरू भयावह हुन्छन् किन ?\\nभय...</td>\n",
       "      <td>kunta sharma, kunta sharma poems, nepali femal...</td>\n",
       "    </tr>\n",
       "    <tr>\n",
       "      <th>3</th>\n",
       "      <td>Anju Grg – Udiraheka Chhan Yo Mero Man</td>\n",
       "      <td>NaN</td>\n",
       "      <td>July 29, 2022</td>\n",
       "      <td>‘उडिरहेका छन् यो मेरो मन’\\nके भयो मलाई,आज यो म...</td>\n",
       "      <td>2022, fly, mind, sky</td>\n",
       "    </tr>\n",
       "    <tr>\n",
       "      <th>4</th>\n",
       "      <td>Damodar Pudasainee – Masada Bhagnawashesh Ma J...</td>\n",
       "      <td>दामोदर पुडासैनी किशोर – मसाडा भग्नावशेषमा जीवन...</td>\n",
       "      <td>April 25, 2021</td>\n",
       "      <td>दामोदर पुडासैनी किशोर – मसाडा भग्नावशेषमा जीवन...</td>\n",
       "      <td>damodar Pudasainee, israel, masada, Nepali Kab...</td>\n",
       "    </tr>\n",
       "  </tbody>\n",
       "</table>\n",
       "</div>"
      ],
      "text/plain": [
       "                                               Title  \\\n",
       "0   Dr. Jayanta Krishna Sharma – Ragat Uttar-Adhunik   \n",
       "1                                Kunta Sharma – Aama   \n",
       "2  Kunta Sharma – Sapana Haru Bhayabaha Hunchhan ...   \n",
       "3             Anju Grg – Udiraheka Chhan Yo Mero Man   \n",
       "4  Damodar Pudasainee – Masada Bhagnawashesh Ma J...   \n",
       "\n",
       "                                        Author_Title                Date  \\\n",
       "0                                                NaN    January 16, 2024   \n",
       "1                                 कुन्ता शर्मा – आमा  September 25, 2023   \n",
       "2         कुन्ता शर्मा – सपनाहरू भयावह हुन्छन् किन ?  September 25, 2023   \n",
       "3                                                NaN       July 29, 2022   \n",
       "4  दामोदर पुडासैनी किशोर – मसाडा भग्नावशेषमा जीवन...      April 25, 2021   \n",
       "\n",
       "                                             Content  \\\n",
       "0  डा. जयन्त कृष्ण शर्मा – रगत उत्तर-आधुनिक\\nरगत ...   \n",
       "1  कुन्ता शर्मा – आमा\\nकवि ! सजिलो हुन्छ\\nआमाको प...   \n",
       "2  कुन्ता शर्मा – सपनाहरू भयावह हुन्छन् किन ?\\nभय...   \n",
       "3  ‘उडिरहेका छन् यो मेरो मन’\\nके भयो मलाई,आज यो म...   \n",
       "4  दामोदर पुडासैनी किशोर – मसाडा भग्नावशेषमा जीवन...   \n",
       "\n",
       "                                                Tags  \n",
       "0            blood, dr jayanta krishna sharma, ragat  \n",
       "1  kunta sharma, kunta sharma poems, nepali femal...  \n",
       "2  kunta sharma, kunta sharma poems, nepali femal...  \n",
       "3                               2022, fly, mind, sky  \n",
       "4  damodar Pudasainee, israel, masada, Nepali Kab...  "
      ]
     },
     "execution_count": 5,
     "metadata": {},
     "output_type": "execute_result"
    }
   ],
   "source": [
    "poem_data.head()"
   ]
  },
  {
   "cell_type": "code",
   "execution_count": 7,
   "metadata": {},
   "outputs": [
    {
     "name": "stderr",
     "output_type": "stream",
     "text": [
      "\u001b[34m\u001b[1mwandb\u001b[0m: \u001b[33mWARNING\u001b[0m If you're specifying your api key in code, ensure this code is not shared publicly.\n",
      "\u001b[34m\u001b[1mwandb\u001b[0m: \u001b[33mWARNING\u001b[0m Consider setting the WANDB_API_KEY environment variable, or running `wandb login` from the command line.\n",
      "\u001b[34m\u001b[1mwandb\u001b[0m: Appending key for api.wandb.ai to your netrc file: /home/legion/.netrc\n"
     ]
    },
    {
     "data": {
      "text/plain": [
       "True"
      ]
     },
     "execution_count": 7,
     "metadata": {},
     "output_type": "execute_result"
    }
   ],
   "source": [
    "import wandb\n",
    "wandb.login(key=\"7b5b06769dae8b1f64ef8b9ece07532497cfefc5\")"
   ]
  },
  {
   "cell_type": "code",
   "execution_count": 1,
   "metadata": {},
   "outputs": [
    {
     "name": "stderr",
     "output_type": "stream",
     "text": [
      "\u001b[34m\u001b[1mwandb\u001b[0m: Using wandb-core as the SDK backend.  Please refer to https://wandb.me/wandb-core for more information.\n",
      "\u001b[34m\u001b[1mwandb\u001b[0m: Currently logged in as: \u001b[33mtwelvve\u001b[0m. Use \u001b[1m`wandb login --relogin`\u001b[0m to force relogin\n"
     ]
    },
    {
     "data": {
      "text/html": [
       "Tracking run with wandb version 0.19.1"
      ],
      "text/plain": [
       "<IPython.core.display.HTML object>"
      ]
     },
     "metadata": {},
     "output_type": "display_data"
    },
    {
     "data": {
      "text/html": [
       "Run data is saved locally in <code>/home/legion/Documents/datascience/poem_dataset/wandb/run-20241219_213046-iy40kb3m</code>"
      ],
      "text/plain": [
       "<IPython.core.display.HTML object>"
      ]
     },
     "metadata": {},
     "output_type": "display_data"
    },
    {
     "data": {
      "text/html": [
       "Syncing run <strong><a href='https://wandb.ai/twelvve/my-awesome-project/runs/iy40kb3m' target=\"_blank\">blooming-microwave-1</a></strong> to <a href='https://wandb.ai/twelvve/my-awesome-project' target=\"_blank\">Weights & Biases</a> (<a href='https://wandb.me/developer-guide' target=\"_blank\">docs</a>)<br>"
      ],
      "text/plain": [
       "<IPython.core.display.HTML object>"
      ]
     },
     "metadata": {},
     "output_type": "display_data"
    },
    {
     "data": {
      "text/html": [
       " View project at <a href='https://wandb.ai/twelvve/my-awesome-project' target=\"_blank\">https://wandb.ai/twelvve/my-awesome-project</a>"
      ],
      "text/plain": [
       "<IPython.core.display.HTML object>"
      ]
     },
     "metadata": {},
     "output_type": "display_data"
    },
    {
     "data": {
      "text/html": [
       " View run at <a href='https://wandb.ai/twelvve/my-awesome-project/runs/iy40kb3m' target=\"_blank\">https://wandb.ai/twelvve/my-awesome-project/runs/iy40kb3m</a>"
      ],
      "text/plain": [
       "<IPython.core.display.HTML object>"
      ]
     },
     "metadata": {},
     "output_type": "display_data"
    },
    {
     "data": {
      "text/html": [],
      "text/plain": [
       "<IPython.core.display.HTML object>"
      ]
     },
     "metadata": {},
     "output_type": "display_data"
    },
    {
     "data": {
      "text/html": [
       "<br>    <style><br>        .wandb-row {<br>            display: flex;<br>            flex-direction: row;<br>            flex-wrap: wrap;<br>            justify-content: flex-start;<br>            width: 100%;<br>        }<br>        .wandb-col {<br>            display: flex;<br>            flex-direction: column;<br>            flex-basis: 100%;<br>            flex: 1;<br>            padding: 10px;<br>        }<br>    </style><br><div class=\"wandb-row\"><div class=\"wandb-col\"><h3>Run history:</h3><br/><table class=\"wandb\"><tr><td>acc</td><td>▁▃▂█▄▇██</td></tr><tr><td>loss</td><td>█▇▅▃▅▁▄▂</td></tr></table><br/></div><div class=\"wandb-col\"><h3>Run summary:</h3><br/><table class=\"wandb\"><tr><td>acc</td><td>0.91451</td></tr><tr><td>loss</td><td>0.08517</td></tr></table><br/></div></div>"
      ],
      "text/plain": [
       "<IPython.core.display.HTML object>"
      ]
     },
     "metadata": {},
     "output_type": "display_data"
    },
    {
     "data": {
      "text/html": [
       " View run <strong style=\"color:#cdcd00\">blooming-microwave-1</strong> at: <a href='https://wandb.ai/twelvve/my-awesome-project/runs/iy40kb3m' target=\"_blank\">https://wandb.ai/twelvve/my-awesome-project/runs/iy40kb3m</a><br> View project at: <a href='https://wandb.ai/twelvve/my-awesome-project' target=\"_blank\">https://wandb.ai/twelvve/my-awesome-project</a><br>Synced 5 W&B file(s), 0 media file(s), 0 artifact file(s) and 0 other file(s)"
      ],
      "text/plain": [
       "<IPython.core.display.HTML object>"
      ]
     },
     "metadata": {},
     "output_type": "display_data"
    },
    {
     "data": {
      "text/html": [
       "Find logs at: <code>./wandb/run-20241219_213046-iy40kb3m/logs</code>"
      ],
      "text/plain": [
       "<IPython.core.display.HTML object>"
      ]
     },
     "metadata": {},
     "output_type": "display_data"
    }
   ],
   "source": [
    "import wandb\n",
    "import random\n",
    "\n",
    "# start a new wandb run to track this script\n",
    "wandb.init(\n",
    "    # set the wandb project where this run will be logged\n",
    "    project=\"my-awesome-project\",\n",
    "\n",
    "    # track hyperparameters and run metadata\n",
    "    config={\n",
    "    \"learning_rate\": 0.02,\n",
    "    \"architecture\": \"CNN\",\n",
    "    \"dataset\": \"CIFAR-100\",\n",
    "    \"epochs\": 10,\n",
    "    }\n",
    ")\n",
    "\n",
    "# simulate training\n",
    "epochs = 10\n",
    "offset = random.random() / 5\n",
    "for epoch in range(2, epochs):\n",
    "    acc = 1 - 2 ** -epoch - random.random() / epoch - offset\n",
    "    loss = 2 ** -epoch + random.random() / epoch + offset\n",
    "\n",
    "    # log metrics to wandb\n",
    "    wandb.log({\"acc\": acc, \"loss\": loss})\n",
    "\n",
    "# [optional] finish the wandb run, necessary in notebooks\n",
    "wandb.finish()"
   ]
  },
  {
   "cell_type": "code",
   "execution_count": 9,
   "metadata": {},
   "outputs": [],
   "source": []
  },
  {
   "cell_type": "code",
   "execution_count": null,
   "metadata": {},
   "outputs": [],
   "source": [
    "    "
   ]
  }
 ],
 "metadata": {
  "kernelspec": {
   "display_name": "base",
   "language": "python",
   "name": "python3"
  },
  "language_info": {
   "codemirror_mode": {
    "name": "ipython",
    "version": 3
   },
   "file_extension": ".py",
   "mimetype": "text/x-python",
   "name": "python",
   "nbconvert_exporter": "python",
   "pygments_lexer": "ipython3",
   "version": "3.12.4"
  }
 },
 "nbformat": 4,
 "nbformat_minor": 2
}
